{
 "cells": [
  {
   "cell_type": "markdown",
   "id": "408c1dd4",
   "metadata": {},
   "source": [
    "### DSO 510 Final Project : How Education Could Affect Career Success\n",
    "Team Members : Delin Zhu, Ziyue Wang, Xu Zhu, Chris Jooyoung Cho, Jiaming Pei, Shao Xuan Chew"
   ]
  },
  {
   "cell_type": "markdown",
   "id": "fbb4c032",
   "metadata": {},
   "source": [
    "# Analyzing the Data"
   ]
  },
  {
   "cell_type": "markdown",
   "id": "3b96e630",
   "metadata": {},
   "source": [
    "### 1. Preparing and Cleaning the Data\n",
    "#### 1a. Importing Packages"
   ]
  },
  {
   "cell_type": "code",
   "execution_count": 1,
   "id": "9d1e5d77",
   "metadata": {},
   "outputs": [],
   "source": [
    "# Data Manipulation\n",
    "import pandas as pd\n",
    "import numpy as np\n",
    "\n",
    "# Plotting\n",
    "import seaborn as sns\n",
    "import matplotlib.pyplot as plt\n",
    "\n",
    "# Statistics\n",
    "import statsmodels.api as sm\n",
    "from statsmodels.discrete.discrete_model import Logit\n",
    "import statsmodels.formula.api as smf\n"
   ]
  },
  {
   "cell_type": "markdown",
   "id": "2223f0b9",
   "metadata": {},
   "source": [
    "#### 1b. Read Dataset"
   ]
  },
  {
   "cell_type": "code",
   "execution_count": 2,
   "id": "11a8d6df",
   "metadata": {},
   "outputs": [
    {
     "data": {
      "text/html": [
       "<div>\n",
       "<style scoped>\n",
       "    .dataframe tbody tr th:only-of-type {\n",
       "        vertical-align: middle;\n",
       "    }\n",
       "\n",
       "    .dataframe tbody tr th {\n",
       "        vertical-align: top;\n",
       "    }\n",
       "\n",
       "    .dataframe thead th {\n",
       "        text-align: right;\n",
       "    }\n",
       "</style>\n",
       "<table border=\"1\" class=\"dataframe\">\n",
       "  <thead>\n",
       "    <tr style=\"text-align: right;\">\n",
       "      <th></th>\n",
       "      <th>Age</th>\n",
       "      <th>Attrition</th>\n",
       "      <th>BusinessTravel</th>\n",
       "      <th>DailyRate</th>\n",
       "      <th>Department</th>\n",
       "      <th>DistanceFromHome</th>\n",
       "      <th>Education</th>\n",
       "      <th>EducationField</th>\n",
       "      <th>EmployeeCount</th>\n",
       "      <th>EmployeeNumber</th>\n",
       "      <th>...</th>\n",
       "      <th>RelationshipSatisfaction</th>\n",
       "      <th>StandardHours</th>\n",
       "      <th>StockOptionLevel</th>\n",
       "      <th>TotalWorkingYears</th>\n",
       "      <th>TrainingTimesLastYear</th>\n",
       "      <th>WorkLifeBalance</th>\n",
       "      <th>YearsAtCompany</th>\n",
       "      <th>YearsInCurrentRole</th>\n",
       "      <th>YearsSinceLastPromotion</th>\n",
       "      <th>YearsWithCurrManager</th>\n",
       "    </tr>\n",
       "  </thead>\n",
       "  <tbody>\n",
       "    <tr>\n",
       "      <th>0</th>\n",
       "      <td>41</td>\n",
       "      <td>Yes</td>\n",
       "      <td>Travel_Rarely</td>\n",
       "      <td>1102</td>\n",
       "      <td>Sales</td>\n",
       "      <td>1</td>\n",
       "      <td>2</td>\n",
       "      <td>Life Sciences</td>\n",
       "      <td>1</td>\n",
       "      <td>1</td>\n",
       "      <td>...</td>\n",
       "      <td>1</td>\n",
       "      <td>80</td>\n",
       "      <td>0</td>\n",
       "      <td>8</td>\n",
       "      <td>0</td>\n",
       "      <td>1</td>\n",
       "      <td>6</td>\n",
       "      <td>4</td>\n",
       "      <td>0</td>\n",
       "      <td>5</td>\n",
       "    </tr>\n",
       "    <tr>\n",
       "      <th>1</th>\n",
       "      <td>49</td>\n",
       "      <td>No</td>\n",
       "      <td>Travel_Frequently</td>\n",
       "      <td>279</td>\n",
       "      <td>Research &amp; Development</td>\n",
       "      <td>8</td>\n",
       "      <td>1</td>\n",
       "      <td>Life Sciences</td>\n",
       "      <td>1</td>\n",
       "      <td>2</td>\n",
       "      <td>...</td>\n",
       "      <td>4</td>\n",
       "      <td>80</td>\n",
       "      <td>1</td>\n",
       "      <td>10</td>\n",
       "      <td>3</td>\n",
       "      <td>3</td>\n",
       "      <td>10</td>\n",
       "      <td>7</td>\n",
       "      <td>1</td>\n",
       "      <td>7</td>\n",
       "    </tr>\n",
       "    <tr>\n",
       "      <th>2</th>\n",
       "      <td>37</td>\n",
       "      <td>Yes</td>\n",
       "      <td>Travel_Rarely</td>\n",
       "      <td>1373</td>\n",
       "      <td>Research &amp; Development</td>\n",
       "      <td>2</td>\n",
       "      <td>2</td>\n",
       "      <td>Other</td>\n",
       "      <td>1</td>\n",
       "      <td>4</td>\n",
       "      <td>...</td>\n",
       "      <td>2</td>\n",
       "      <td>80</td>\n",
       "      <td>0</td>\n",
       "      <td>7</td>\n",
       "      <td>3</td>\n",
       "      <td>3</td>\n",
       "      <td>0</td>\n",
       "      <td>0</td>\n",
       "      <td>0</td>\n",
       "      <td>0</td>\n",
       "    </tr>\n",
       "    <tr>\n",
       "      <th>3</th>\n",
       "      <td>33</td>\n",
       "      <td>No</td>\n",
       "      <td>Travel_Frequently</td>\n",
       "      <td>1392</td>\n",
       "      <td>Research &amp; Development</td>\n",
       "      <td>3</td>\n",
       "      <td>4</td>\n",
       "      <td>Life Sciences</td>\n",
       "      <td>1</td>\n",
       "      <td>5</td>\n",
       "      <td>...</td>\n",
       "      <td>3</td>\n",
       "      <td>80</td>\n",
       "      <td>0</td>\n",
       "      <td>8</td>\n",
       "      <td>3</td>\n",
       "      <td>3</td>\n",
       "      <td>8</td>\n",
       "      <td>7</td>\n",
       "      <td>3</td>\n",
       "      <td>0</td>\n",
       "    </tr>\n",
       "    <tr>\n",
       "      <th>4</th>\n",
       "      <td>27</td>\n",
       "      <td>No</td>\n",
       "      <td>Travel_Rarely</td>\n",
       "      <td>591</td>\n",
       "      <td>Research &amp; Development</td>\n",
       "      <td>2</td>\n",
       "      <td>1</td>\n",
       "      <td>Medical</td>\n",
       "      <td>1</td>\n",
       "      <td>7</td>\n",
       "      <td>...</td>\n",
       "      <td>4</td>\n",
       "      <td>80</td>\n",
       "      <td>1</td>\n",
       "      <td>6</td>\n",
       "      <td>3</td>\n",
       "      <td>3</td>\n",
       "      <td>2</td>\n",
       "      <td>2</td>\n",
       "      <td>2</td>\n",
       "      <td>2</td>\n",
       "    </tr>\n",
       "    <tr>\n",
       "      <th>5</th>\n",
       "      <td>32</td>\n",
       "      <td>No</td>\n",
       "      <td>Travel_Frequently</td>\n",
       "      <td>1005</td>\n",
       "      <td>Research &amp; Development</td>\n",
       "      <td>2</td>\n",
       "      <td>2</td>\n",
       "      <td>Life Sciences</td>\n",
       "      <td>1</td>\n",
       "      <td>8</td>\n",
       "      <td>...</td>\n",
       "      <td>3</td>\n",
       "      <td>80</td>\n",
       "      <td>0</td>\n",
       "      <td>8</td>\n",
       "      <td>2</td>\n",
       "      <td>2</td>\n",
       "      <td>7</td>\n",
       "      <td>7</td>\n",
       "      <td>3</td>\n",
       "      <td>6</td>\n",
       "    </tr>\n",
       "    <tr>\n",
       "      <th>6</th>\n",
       "      <td>59</td>\n",
       "      <td>No</td>\n",
       "      <td>Travel_Rarely</td>\n",
       "      <td>1324</td>\n",
       "      <td>Research &amp; Development</td>\n",
       "      <td>3</td>\n",
       "      <td>3</td>\n",
       "      <td>Medical</td>\n",
       "      <td>1</td>\n",
       "      <td>10</td>\n",
       "      <td>...</td>\n",
       "      <td>1</td>\n",
       "      <td>80</td>\n",
       "      <td>3</td>\n",
       "      <td>12</td>\n",
       "      <td>3</td>\n",
       "      <td>2</td>\n",
       "      <td>1</td>\n",
       "      <td>0</td>\n",
       "      <td>0</td>\n",
       "      <td>0</td>\n",
       "    </tr>\n",
       "    <tr>\n",
       "      <th>7</th>\n",
       "      <td>30</td>\n",
       "      <td>No</td>\n",
       "      <td>Travel_Rarely</td>\n",
       "      <td>1358</td>\n",
       "      <td>Research &amp; Development</td>\n",
       "      <td>24</td>\n",
       "      <td>1</td>\n",
       "      <td>Life Sciences</td>\n",
       "      <td>1</td>\n",
       "      <td>11</td>\n",
       "      <td>...</td>\n",
       "      <td>2</td>\n",
       "      <td>80</td>\n",
       "      <td>1</td>\n",
       "      <td>1</td>\n",
       "      <td>2</td>\n",
       "      <td>3</td>\n",
       "      <td>1</td>\n",
       "      <td>0</td>\n",
       "      <td>0</td>\n",
       "      <td>0</td>\n",
       "    </tr>\n",
       "    <tr>\n",
       "      <th>8</th>\n",
       "      <td>38</td>\n",
       "      <td>No</td>\n",
       "      <td>Travel_Frequently</td>\n",
       "      <td>216</td>\n",
       "      <td>Research &amp; Development</td>\n",
       "      <td>23</td>\n",
       "      <td>3</td>\n",
       "      <td>Life Sciences</td>\n",
       "      <td>1</td>\n",
       "      <td>12</td>\n",
       "      <td>...</td>\n",
       "      <td>2</td>\n",
       "      <td>80</td>\n",
       "      <td>0</td>\n",
       "      <td>10</td>\n",
       "      <td>2</td>\n",
       "      <td>3</td>\n",
       "      <td>9</td>\n",
       "      <td>7</td>\n",
       "      <td>1</td>\n",
       "      <td>8</td>\n",
       "    </tr>\n",
       "    <tr>\n",
       "      <th>9</th>\n",
       "      <td>36</td>\n",
       "      <td>No</td>\n",
       "      <td>Travel_Rarely</td>\n",
       "      <td>1299</td>\n",
       "      <td>Research &amp; Development</td>\n",
       "      <td>27</td>\n",
       "      <td>3</td>\n",
       "      <td>Medical</td>\n",
       "      <td>1</td>\n",
       "      <td>13</td>\n",
       "      <td>...</td>\n",
       "      <td>2</td>\n",
       "      <td>80</td>\n",
       "      <td>2</td>\n",
       "      <td>17</td>\n",
       "      <td>3</td>\n",
       "      <td>2</td>\n",
       "      <td>7</td>\n",
       "      <td>7</td>\n",
       "      <td>7</td>\n",
       "      <td>7</td>\n",
       "    </tr>\n",
       "  </tbody>\n",
       "</table>\n",
       "<p>10 rows × 35 columns</p>\n",
       "</div>"
      ],
      "text/plain": [
       "   Age Attrition     BusinessTravel  DailyRate              Department  \\\n",
       "0   41       Yes      Travel_Rarely       1102                   Sales   \n",
       "1   49        No  Travel_Frequently        279  Research & Development   \n",
       "2   37       Yes      Travel_Rarely       1373  Research & Development   \n",
       "3   33        No  Travel_Frequently       1392  Research & Development   \n",
       "4   27        No      Travel_Rarely        591  Research & Development   \n",
       "5   32        No  Travel_Frequently       1005  Research & Development   \n",
       "6   59        No      Travel_Rarely       1324  Research & Development   \n",
       "7   30        No      Travel_Rarely       1358  Research & Development   \n",
       "8   38        No  Travel_Frequently        216  Research & Development   \n",
       "9   36        No      Travel_Rarely       1299  Research & Development   \n",
       "\n",
       "   DistanceFromHome  Education EducationField  EmployeeCount  EmployeeNumber  \\\n",
       "0                 1          2  Life Sciences              1               1   \n",
       "1                 8          1  Life Sciences              1               2   \n",
       "2                 2          2          Other              1               4   \n",
       "3                 3          4  Life Sciences              1               5   \n",
       "4                 2          1        Medical              1               7   \n",
       "5                 2          2  Life Sciences              1               8   \n",
       "6                 3          3        Medical              1              10   \n",
       "7                24          1  Life Sciences              1              11   \n",
       "8                23          3  Life Sciences              1              12   \n",
       "9                27          3        Medical              1              13   \n",
       "\n",
       "   ...  RelationshipSatisfaction StandardHours  StockOptionLevel  \\\n",
       "0  ...                         1            80                 0   \n",
       "1  ...                         4            80                 1   \n",
       "2  ...                         2            80                 0   \n",
       "3  ...                         3            80                 0   \n",
       "4  ...                         4            80                 1   \n",
       "5  ...                         3            80                 0   \n",
       "6  ...                         1            80                 3   \n",
       "7  ...                         2            80                 1   \n",
       "8  ...                         2            80                 0   \n",
       "9  ...                         2            80                 2   \n",
       "\n",
       "   TotalWorkingYears  TrainingTimesLastYear WorkLifeBalance  YearsAtCompany  \\\n",
       "0                  8                      0               1               6   \n",
       "1                 10                      3               3              10   \n",
       "2                  7                      3               3               0   \n",
       "3                  8                      3               3               8   \n",
       "4                  6                      3               3               2   \n",
       "5                  8                      2               2               7   \n",
       "6                 12                      3               2               1   \n",
       "7                  1                      2               3               1   \n",
       "8                 10                      2               3               9   \n",
       "9                 17                      3               2               7   \n",
       "\n",
       "  YearsInCurrentRole  YearsSinceLastPromotion  YearsWithCurrManager  \n",
       "0                  4                        0                     5  \n",
       "1                  7                        1                     7  \n",
       "2                  0                        0                     0  \n",
       "3                  7                        3                     0  \n",
       "4                  2                        2                     2  \n",
       "5                  7                        3                     6  \n",
       "6                  0                        0                     0  \n",
       "7                  0                        0                     0  \n",
       "8                  7                        1                     8  \n",
       "9                  7                        7                     7  \n",
       "\n",
       "[10 rows x 35 columns]"
      ]
     },
     "execution_count": 2,
     "metadata": {},
     "output_type": "execute_result"
    }
   ],
   "source": [
    "employee = pd.read_csv(\"Employee-Attrition.csv\")\n",
    "employee.head(10)"
   ]
  },
  {
   "cell_type": "markdown",
   "id": "d2e1385e",
   "metadata": {},
   "source": [
    "#### 1c. Creating a dummy variable for Gender and dropping unnecessary columns"
   ]
  },
  {
   "cell_type": "code",
   "execution_count": 3,
   "id": "3e14806d",
   "metadata": {},
   "outputs": [],
   "source": [
    "employee['isMale'] = [1 if i==\"Male\" else 0 for i in employee['Gender']]\n",
    "employee = employee[['MonthlyIncome', 'isMale', 'JobRole', 'Department', 'Education', 'EducationField', 'JobLevel', 'TotalWorkingYears']]"
   ]
  },
  {
   "cell_type": "markdown",
   "id": "bade4a8d",
   "metadata": {},
   "source": [
    "#### 1d. Create Dummy Variables for each Education Level"
   ]
  },
  {
   "cell_type": "code",
   "execution_count": 4,
   "id": "1e99870c",
   "metadata": {},
   "outputs": [
    {
     "data": {
      "text/html": [
       "<div>\n",
       "<style scoped>\n",
       "    .dataframe tbody tr th:only-of-type {\n",
       "        vertical-align: middle;\n",
       "    }\n",
       "\n",
       "    .dataframe tbody tr th {\n",
       "        vertical-align: top;\n",
       "    }\n",
       "\n",
       "    .dataframe thead th {\n",
       "        text-align: right;\n",
       "    }\n",
       "</style>\n",
       "<table border=\"1\" class=\"dataframe\">\n",
       "  <thead>\n",
       "    <tr style=\"text-align: right;\">\n",
       "      <th></th>\n",
       "      <th>MonthlyIncome</th>\n",
       "      <th>isMale</th>\n",
       "      <th>JobRole</th>\n",
       "      <th>Department</th>\n",
       "      <th>EducationField</th>\n",
       "      <th>JobLevel</th>\n",
       "      <th>TotalWorkingYears</th>\n",
       "      <th>edu_2</th>\n",
       "      <th>edu_3</th>\n",
       "      <th>edu_4</th>\n",
       "      <th>edu_5</th>\n",
       "    </tr>\n",
       "  </thead>\n",
       "  <tbody>\n",
       "    <tr>\n",
       "      <th>0</th>\n",
       "      <td>5993</td>\n",
       "      <td>0</td>\n",
       "      <td>Sales Executive</td>\n",
       "      <td>Sales</td>\n",
       "      <td>Life Sciences</td>\n",
       "      <td>2</td>\n",
       "      <td>8</td>\n",
       "      <td>1</td>\n",
       "      <td>0</td>\n",
       "      <td>0</td>\n",
       "      <td>0</td>\n",
       "    </tr>\n",
       "    <tr>\n",
       "      <th>1</th>\n",
       "      <td>5130</td>\n",
       "      <td>1</td>\n",
       "      <td>Research Scientist</td>\n",
       "      <td>Research &amp; Development</td>\n",
       "      <td>Life Sciences</td>\n",
       "      <td>2</td>\n",
       "      <td>10</td>\n",
       "      <td>0</td>\n",
       "      <td>0</td>\n",
       "      <td>0</td>\n",
       "      <td>0</td>\n",
       "    </tr>\n",
       "    <tr>\n",
       "      <th>2</th>\n",
       "      <td>2090</td>\n",
       "      <td>1</td>\n",
       "      <td>Laboratory Technician</td>\n",
       "      <td>Research &amp; Development</td>\n",
       "      <td>Other</td>\n",
       "      <td>1</td>\n",
       "      <td>7</td>\n",
       "      <td>1</td>\n",
       "      <td>0</td>\n",
       "      <td>0</td>\n",
       "      <td>0</td>\n",
       "    </tr>\n",
       "    <tr>\n",
       "      <th>3</th>\n",
       "      <td>2909</td>\n",
       "      <td>0</td>\n",
       "      <td>Research Scientist</td>\n",
       "      <td>Research &amp; Development</td>\n",
       "      <td>Life Sciences</td>\n",
       "      <td>1</td>\n",
       "      <td>8</td>\n",
       "      <td>0</td>\n",
       "      <td>0</td>\n",
       "      <td>1</td>\n",
       "      <td>0</td>\n",
       "    </tr>\n",
       "    <tr>\n",
       "      <th>4</th>\n",
       "      <td>3468</td>\n",
       "      <td>1</td>\n",
       "      <td>Laboratory Technician</td>\n",
       "      <td>Research &amp; Development</td>\n",
       "      <td>Medical</td>\n",
       "      <td>1</td>\n",
       "      <td>6</td>\n",
       "      <td>0</td>\n",
       "      <td>0</td>\n",
       "      <td>0</td>\n",
       "      <td>0</td>\n",
       "    </tr>\n",
       "    <tr>\n",
       "      <th>...</th>\n",
       "      <td>...</td>\n",
       "      <td>...</td>\n",
       "      <td>...</td>\n",
       "      <td>...</td>\n",
       "      <td>...</td>\n",
       "      <td>...</td>\n",
       "      <td>...</td>\n",
       "      <td>...</td>\n",
       "      <td>...</td>\n",
       "      <td>...</td>\n",
       "      <td>...</td>\n",
       "    </tr>\n",
       "    <tr>\n",
       "      <th>1465</th>\n",
       "      <td>2571</td>\n",
       "      <td>1</td>\n",
       "      <td>Laboratory Technician</td>\n",
       "      <td>Research &amp; Development</td>\n",
       "      <td>Medical</td>\n",
       "      <td>2</td>\n",
       "      <td>17</td>\n",
       "      <td>1</td>\n",
       "      <td>0</td>\n",
       "      <td>0</td>\n",
       "      <td>0</td>\n",
       "    </tr>\n",
       "    <tr>\n",
       "      <th>1466</th>\n",
       "      <td>9991</td>\n",
       "      <td>1</td>\n",
       "      <td>Healthcare Representative</td>\n",
       "      <td>Research &amp; Development</td>\n",
       "      <td>Medical</td>\n",
       "      <td>3</td>\n",
       "      <td>9</td>\n",
       "      <td>0</td>\n",
       "      <td>0</td>\n",
       "      <td>0</td>\n",
       "      <td>0</td>\n",
       "    </tr>\n",
       "    <tr>\n",
       "      <th>1467</th>\n",
       "      <td>6142</td>\n",
       "      <td>1</td>\n",
       "      <td>Manufacturing Director</td>\n",
       "      <td>Research &amp; Development</td>\n",
       "      <td>Life Sciences</td>\n",
       "      <td>2</td>\n",
       "      <td>6</td>\n",
       "      <td>0</td>\n",
       "      <td>1</td>\n",
       "      <td>0</td>\n",
       "      <td>0</td>\n",
       "    </tr>\n",
       "    <tr>\n",
       "      <th>1468</th>\n",
       "      <td>5390</td>\n",
       "      <td>1</td>\n",
       "      <td>Sales Executive</td>\n",
       "      <td>Sales</td>\n",
       "      <td>Medical</td>\n",
       "      <td>2</td>\n",
       "      <td>17</td>\n",
       "      <td>0</td>\n",
       "      <td>1</td>\n",
       "      <td>0</td>\n",
       "      <td>0</td>\n",
       "    </tr>\n",
       "    <tr>\n",
       "      <th>1469</th>\n",
       "      <td>4404</td>\n",
       "      <td>1</td>\n",
       "      <td>Laboratory Technician</td>\n",
       "      <td>Research &amp; Development</td>\n",
       "      <td>Medical</td>\n",
       "      <td>2</td>\n",
       "      <td>6</td>\n",
       "      <td>0</td>\n",
       "      <td>1</td>\n",
       "      <td>0</td>\n",
       "      <td>0</td>\n",
       "    </tr>\n",
       "  </tbody>\n",
       "</table>\n",
       "<p>1470 rows × 11 columns</p>\n",
       "</div>"
      ],
      "text/plain": [
       "      MonthlyIncome  isMale                    JobRole  \\\n",
       "0              5993       0            Sales Executive   \n",
       "1              5130       1         Research Scientist   \n",
       "2              2090       1      Laboratory Technician   \n",
       "3              2909       0         Research Scientist   \n",
       "4              3468       1      Laboratory Technician   \n",
       "...             ...     ...                        ...   \n",
       "1465           2571       1      Laboratory Technician   \n",
       "1466           9991       1  Healthcare Representative   \n",
       "1467           6142       1     Manufacturing Director   \n",
       "1468           5390       1            Sales Executive   \n",
       "1469           4404       1      Laboratory Technician   \n",
       "\n",
       "                  Department EducationField  JobLevel  TotalWorkingYears  \\\n",
       "0                      Sales  Life Sciences         2                  8   \n",
       "1     Research & Development  Life Sciences         2                 10   \n",
       "2     Research & Development          Other         1                  7   \n",
       "3     Research & Development  Life Sciences         1                  8   \n",
       "4     Research & Development        Medical         1                  6   \n",
       "...                      ...            ...       ...                ...   \n",
       "1465  Research & Development        Medical         2                 17   \n",
       "1466  Research & Development        Medical         3                  9   \n",
       "1467  Research & Development  Life Sciences         2                  6   \n",
       "1468                   Sales        Medical         2                 17   \n",
       "1469  Research & Development        Medical         2                  6   \n",
       "\n",
       "      edu_2  edu_3  edu_4  edu_5  \n",
       "0         1      0      0      0  \n",
       "1         0      0      0      0  \n",
       "2         1      0      0      0  \n",
       "3         0      0      1      0  \n",
       "4         0      0      0      0  \n",
       "...     ...    ...    ...    ...  \n",
       "1465      1      0      0      0  \n",
       "1466      0      0      0      0  \n",
       "1467      0      1      0      0  \n",
       "1468      0      1      0      0  \n",
       "1469      0      1      0      0  \n",
       "\n",
       "[1470 rows x 11 columns]"
      ]
     },
     "execution_count": 4,
     "metadata": {},
     "output_type": "execute_result"
    }
   ],
   "source": [
    "d1_employee = pd.get_dummies(employee, prefix='edu', columns=['Education'])\n",
    "d1_employee.drop(axis=1, labels=['edu_1'], inplace=True)\n",
    "d1_employee"
   ]
  },
  {
   "cell_type": "markdown",
   "id": "2a62d5aa",
   "metadata": {},
   "source": [
    "#### 1e. Education Fields"
   ]
  },
  {
   "cell_type": "code",
   "execution_count": 5,
   "id": "84d9acbd",
   "metadata": {},
   "outputs": [
    {
     "name": "stdout",
     "output_type": "stream",
     "text": [
      "Education Fields\n",
      "0 - Life Sciences\n",
      "1 - Other\n",
      "2 - Medical\n",
      "3 - Marketing\n",
      "4 - Technical Degree\n",
      "5 - Human Resources\n"
     ]
    }
   ],
   "source": [
    "print('Education Fields')\n",
    "print(*(f'{i} - {field}' for i, field in enumerate(d1_employee['EducationField'].unique())), sep='\\n')"
   ]
  },
  {
   "cell_type": "markdown",
   "id": "2c18c5e0",
   "metadata": {},
   "source": [
    "#### 1f. Clean JobRole field, add department information to manager titles to indicate manager's field"
   ]
  },
  {
   "cell_type": "code",
   "execution_count": 6,
   "id": "a185a0c2",
   "metadata": {},
   "outputs": [
    {
     "name": "stdout",
     "output_type": "stream",
     "text": [
      "Job Roles\n",
      "0 - Sales Executive\n",
      "1 - Research Scientist\n",
      "2 - Laboratory Technician\n",
      "3 - Manufacturing Director\n",
      "4 - Healthcare Representative\n",
      "5 - Sales Manager\n",
      "6 - Sales Representative\n",
      "7 - Research Director\n",
      "8 - Research & Development Manager\n",
      "9 - Human Resources\n",
      "10 - Human Resources Manager\n"
     ]
    }
   ],
   "source": [
    "titles = []\n",
    "\n",
    "for i in range(len(d1_employee['JobRole'])):\n",
    "    if d1_employee.loc[i, 'JobRole'] == 'Manager':\n",
    "        depart = d1_employee.loc[i, 'Department']\n",
    "        new_title = depart + ' Manager'\n",
    "        titles.append(new_title)\n",
    "    else:\n",
    "        titles.append(d1_employee.loc[i, 'JobRole'])\n",
    "\n",
    "d1_employee['JobRole'] = titles\n",
    "print('Job Roles')\n",
    "print(*(f'{i} - {role}' for i, role in enumerate(d1_employee['JobRole'].unique())), sep='\\n')\n",
    "    "
   ]
  },
  {
   "cell_type": "markdown",
   "id": "cc81f477",
   "metadata": {},
   "source": [
    "#### 1g. Add column to indicate if the employee's education field is Relevant to their job"
   ]
  },
  {
   "cell_type": "code",
   "execution_count": 7,
   "id": "647b6fd8",
   "metadata": {},
   "outputs": [],
   "source": [
    "# Creating the is_match variable\n",
    "match_dic = {\n",
    "    'Life Sciences': ['Research Scientist', 'Healthcare Representative', 'Research Director', 'Research & Development Manager'],\n",
    "    'Medical': [ 'Research Scientist', 'Laboratory Technician', 'Research Director', 'Research & Development Manager'],\n",
    "    'Marketing' : ['Sales Executive', 'Sales Manager', 'Sales Representative'],\n",
    "    'Technical Degree': ['Research Scientist', 'Laboratory Technician', 'Research Director', 'Research & Development Manager'],\n",
    "    'Human Resources': ['Human Resources', 'Human Resources Manager'],\n",
    "    'Other': ['']\n",
    "}\n",
    "\n",
    "is_match = []\n",
    "for i in range(len(d1_employee['EducationField'])):\n",
    "    match = 0\n",
    "    if d1_employee.loc[i, 'JobRole'] in match_dic[d1_employee.loc[i, 'EducationField']]:\n",
    "        match = 1\n",
    "    is_match.append(match)\n",
    "d1_employee['is_match'] = is_match\n",
    "# d_employee.loc[:, ['JobRole', 'is_match']]\n",
    "\n",
    "employee = d1_employee"
   ]
  },
  {
   "cell_type": "markdown",
   "id": "2934d94a",
   "metadata": {},
   "source": [
    "#### 1h. Creating Dummies for whether an employee is senior, or junior"
   ]
  },
  {
   "cell_type": "code",
   "execution_count": 8,
   "id": "9a71677c",
   "metadata": {},
   "outputs": [],
   "source": [
    "\"\"\"\n",
    "We want to also see the interaction between background matching and department.\n",
    "Creating dummies for experience level(new grad: 0-2 years, junior: 2-10 years, senior: 10+ years)\n",
    "\"\"\"\n",
    "\n",
    "d1_employee['is_junior'] = [1 if (i > 2) & (i <= 10) else 0 for i in d1_employee['TotalWorkingYears']]\n",
    "d1_employee['is_senior'] = [1 if (i > 10) else 0 for i in d1_employee['TotalWorkingYears']]"
   ]
  },
  {
   "cell_type": "markdown",
   "id": "1ec78da0",
   "metadata": {},
   "source": [
    "### 2. Exploratory Data Analysis"
   ]
  },
  {
   "cell_type": "markdown",
   "id": "6acd4e94",
   "metadata": {},
   "source": [
    "#### 2a. Studying The Relevancy Of Education And Job Role Across Departments "
   ]
  },
  {
   "cell_type": "code",
   "execution_count": 9,
   "id": "9a71677c",
   "metadata": {},
   "outputs": [],
   "source": [
    "\"\"\"\n",
    "We want to also see the interaction between background matching and department.\n",
    "Creating dummies for experience level(new grad: 0-2 years, junior: 2-10 years, senior: 10+ years)\n",
    "\"\"\"\n",
    "\n",
    "d1_employee['is_junior'] = [1 if (i > 2) & (i <= 10) else 0 for i in d1_employee['TotalWorkingYears']]\n",
    "d1_employee['is_senior'] = [1 if (i > 10) else 0 for i in d1_employee['TotalWorkingYears']]"
   ]
  },
  {
   "cell_type": "code",
   "execution_count": 10,
   "id": "5d2226ad",
   "metadata": {},
   "outputs": [
    {
     "data": {
      "image/png": "[encoded data removed]",
      "text/plain": [
       "<Figure size 576x360 with 1 Axes>"
      ]
     },
     "metadata": {
      "needs_background": "light"
     },
     "output_type": "display_data"
    }
   ],
   "source": [
    "ctb = pd.crosstab(employee['is_match'], employee['Department'], normalize='columns')\n",
    "stacked = ctb.stack().reset_index().rename(columns={0: 'value'})\n",
    "\n",
    "fig = plt.figure(figsize=(8, 5))\n",
    "sns.barplot(data=stacked, y='value', x= 'Department', hue='is_match')\n",
    "plt.title('Relevancy of Education and Job Role by Department')\n",
    "plt.show()"
   ]
  },
  {
   "cell_type": "markdown",
   "id": "8e0066c8",
   "metadata": {},
   "source": [
    "#### 2b. Average Income By Department"
   ]
  },
  {
   "cell_type": "code",
   "execution_count": 11,
   "id": "0d50af8c",
   "metadata": {},
   "outputs": [
    {
     "data": {
      "image/png": "[encoded data removed]",
      "text/plain": [
       "<Figure size 576x360 with 1 Axes>"
      ]
     },
     "metadata": {
      "needs_background": "light"
     },
     "output_type": "display_data"
    }
   ],
   "source": [
    "fig = plt.figure(figsize=(8, 5))\n",
    "sns.barplot(data=employee, y='Department', x='MonthlyIncome', estimator=np.mean, order=employee['Department'].unique())\n",
    "plt.title('Average Income by Department')\n",
    "plt.show()\n"
   ]
  },
  {
   "cell_type": "markdown",
   "id": "f0665d9a",
   "metadata": {},
   "source": [
    "#### 2c. Years Working and Income"
   ]
  },
  {
   "cell_type": "code",
   "execution_count": 12,
   "id": "1af8a757",
   "metadata": {},
   "outputs": [
    {
     "data": {
      "image/png": "[encoded data removed]",
      "text/plain": [
       "<Figure size 576x360 with 1 Axes>"
      ]
     },
     "metadata": {
      "needs_background": "light"
     },
     "output_type": "display_data"
    }
   ],
   "source": [
    "fig = plt.figure(figsize=(8,5))\n",
    "sns.scatterplot(data=employee, x='TotalWorkingYears', y='MonthlyIncome')\n",
    "plt.title('Years Working vs Income')\n",
    "plt.show()\n"
   ]
  },
  {
   "cell_type": "markdown",
   "id": "e58ffeb3",
   "metadata": {},
   "source": [
    "#### 2d. Matching Education vs Income"
   ]
  },
  {
   "cell_type": "code",
   "execution_count": 13,
   "id": "b286ab0c",
   "metadata": {},
   "outputs": [
    {
     "data": {
      "image/png": "[encoded data removed]",
      "text/plain": [
       "<Figure size 576x360 with 1 Axes>"
      ]
     },
     "metadata": {
      "needs_background": "light"
     },
     "output_type": "display_data"
    }
   ],
   "source": [
    "fig = plt.figure(figsize=(8, 5))\n",
    "\n",
    "sns.histplot(employee[employee['is_match'] == 1], x='MonthlyIncome', kde=True, bins=range(1000, 20000, 1000))\n",
    "sns.histplot(employee[employee['is_match'] == 0], x='MonthlyIncome', kde=True, color='red', bins=range(1000, 20000, 1000))\n",
    "plt.title('Matching Education vs Income')\n",
    "fig.legend(labels=['Matching', 'Not Matching'], loc=\"upper right\", bbox_to_anchor=(.85,0.85))\n",
    "\n",
    "plt.show()\n"
   ]
  },
  {
   "cell_type": "markdown",
   "id": "20bc2a14",
   "metadata": {},
   "source": [
    "#### 2e. Identifying Wage Outliers For Each JobLevel"
   ]
  },
  {
   "cell_type": "code",
   "execution_count": 14,
   "id": "b1eedd4f",
   "metadata": {},
   "outputs": [
    {
     "data": {
      "image/png": "[encoded data removed]",
      "text/plain": [
       "<Figure size 576x360 with 1 Axes>"
      ]
     },
     "metadata": {
      "needs_background": "light"
     },
     "output_type": "display_data"
    }
   ],
   "source": [
    "fig = plt.figure(figsize=(8, 5))\n",
    "sns.boxplot(data=employee, x='JobLevel', y='MonthlyIncome')\n",
    "plt.title('Identifying Wage Outliers for each JobLevel')\n",
    "plt.show()"
   ]
  },
  {
   "cell_type": "markdown",
   "id": "ad432083",
   "metadata": {},
   "source": [
    "We can notice that for the jop levels there are a few outliers. Therefore we decided to further investigate JobLevel1 and JobLevel2."
   ]
  },
  {
   "cell_type": "markdown",
   "id": "dd45c9e7",
   "metadata": {},
   "source": [
    "### 2.5 Outlier Detection and Removal"
   ]
  },
  {
   "cell_type": "markdown",
   "id": "43c6b298",
   "metadata": {},
   "source": [
    "#### 2.5a. Identifying Outliers for JobLevel 1 and 2 using the 1.5 IQR method"
   ]
  },
  {
   "cell_type": "code",
   "execution_count": 15,
   "id": "a75a888e",
   "metadata": {},
   "outputs": [
    {
     "data": {
      "text/html": [
       "<div>\n",
       "<style scoped>\n",
       "    .dataframe tbody tr th:only-of-type {\n",
       "        vertical-align: middle;\n",
       "    }\n",
       "\n",
       "    .dataframe tbody tr th {\n",
       "        vertical-align: top;\n",
       "    }\n",
       "\n",
       "    .dataframe thead th {\n",
       "        text-align: right;\n",
       "    }\n",
       "</style>\n",
       "<table border=\"1\" class=\"dataframe\">\n",
       "  <thead>\n",
       "    <tr style=\"text-align: right;\">\n",
       "      <th></th>\n",
       "      <th>MonthlyIncome</th>\n",
       "      <th>isMale</th>\n",
       "      <th>JobRole</th>\n",
       "      <th>Department</th>\n",
       "      <th>EducationField</th>\n",
       "      <th>JobLevel</th>\n",
       "      <th>TotalWorkingYears</th>\n",
       "      <th>edu_2</th>\n",
       "      <th>edu_3</th>\n",
       "      <th>edu_4</th>\n",
       "      <th>edu_5</th>\n",
       "      <th>is_match</th>\n",
       "      <th>is_junior</th>\n",
       "      <th>is_senior</th>\n",
       "      <th>is_outlier</th>\n",
       "    </tr>\n",
       "  </thead>\n",
       "  <tbody>\n",
       "    <tr>\n",
       "      <th>2</th>\n",
       "      <td>2090</td>\n",
       "      <td>1</td>\n",
       "      <td>Laboratory Technician</td>\n",
       "      <td>Research &amp; Development</td>\n",
       "      <td>Other</td>\n",
       "      <td>1</td>\n",
       "      <td>7</td>\n",
       "      <td>1</td>\n",
       "      <td>0</td>\n",
       "      <td>0</td>\n",
       "      <td>0</td>\n",
       "      <td>0</td>\n",
       "      <td>1</td>\n",
       "      <td>0</td>\n",
       "      <td>0</td>\n",
       "    </tr>\n",
       "    <tr>\n",
       "      <th>3</th>\n",
       "      <td>2909</td>\n",
       "      <td>0</td>\n",
       "      <td>Research Scientist</td>\n",
       "      <td>Research &amp; Development</td>\n",
       "      <td>Life Sciences</td>\n",
       "      <td>1</td>\n",
       "      <td>8</td>\n",
       "      <td>0</td>\n",
       "      <td>0</td>\n",
       "      <td>1</td>\n",
       "      <td>0</td>\n",
       "      <td>1</td>\n",
       "      <td>1</td>\n",
       "      <td>0</td>\n",
       "      <td>0</td>\n",
       "    </tr>\n",
       "    <tr>\n",
       "      <th>4</th>\n",
       "      <td>3468</td>\n",
       "      <td>1</td>\n",
       "      <td>Laboratory Technician</td>\n",
       "      <td>Research &amp; Development</td>\n",
       "      <td>Medical</td>\n",
       "      <td>1</td>\n",
       "      <td>6</td>\n",
       "      <td>0</td>\n",
       "      <td>0</td>\n",
       "      <td>0</td>\n",
       "      <td>0</td>\n",
       "      <td>1</td>\n",
       "      <td>1</td>\n",
       "      <td>0</td>\n",
       "      <td>0</td>\n",
       "    </tr>\n",
       "    <tr>\n",
       "      <th>5</th>\n",
       "      <td>3068</td>\n",
       "      <td>1</td>\n",
       "      <td>Laboratory Technician</td>\n",
       "      <td>Research &amp; Development</td>\n",
       "      <td>Life Sciences</td>\n",
       "      <td>1</td>\n",
       "      <td>8</td>\n",
       "      <td>1</td>\n",
       "      <td>0</td>\n",
       "      <td>0</td>\n",
       "      <td>0</td>\n",
       "      <td>0</td>\n",
       "      <td>1</td>\n",
       "      <td>0</td>\n",
       "      <td>0</td>\n",
       "    </tr>\n",
       "    <tr>\n",
       "      <th>6</th>\n",
       "      <td>2670</td>\n",
       "      <td>0</td>\n",
       "      <td>Laboratory Technician</td>\n",
       "      <td>Research &amp; Development</td>\n",
       "      <td>Medical</td>\n",
       "      <td>1</td>\n",
       "      <td>12</td>\n",
       "      <td>0</td>\n",
       "      <td>1</td>\n",
       "      <td>0</td>\n",
       "      <td>0</td>\n",
       "      <td>1</td>\n",
       "      <td>0</td>\n",
       "      <td>1</td>\n",
       "      <td>0</td>\n",
       "    </tr>\n",
       "  </tbody>\n",
       "</table>\n",
       "</div>"
      ],
      "text/plain": [
       "   MonthlyIncome  isMale                JobRole              Department  \\\n",
       "2           2090       1  Laboratory Technician  Research & Development   \n",
       "3           2909       0     Research Scientist  Research & Development   \n",
       "4           3468       1  Laboratory Technician  Research & Development   \n",
       "5           3068       1  Laboratory Technician  Research & Development   \n",
       "6           2670       0  Laboratory Technician  Research & Development   \n",
       "\n",
       "  EducationField  JobLevel  TotalWorkingYears  edu_2  edu_3  edu_4  edu_5  \\\n",
       "2          Other         1                  7      1      0      0      0   \n",
       "3  Life Sciences         1                  8      0      0      1      0   \n",
       "4        Medical         1                  6      0      0      0      0   \n",
       "5  Life Sciences         1                  8      1      0      0      0   \n",
       "6        Medical         1                 12      0      1      0      0   \n",
       "\n",
       "   is_match  is_junior  is_senior  is_outlier  \n",
       "2         0          1          0           0  \n",
       "3         1          1          0           0  \n",
       "4         1          1          0           0  \n",
       "5         0          1          0           0  \n",
       "6         1          0          1           0  "
      ]
     },
     "execution_count": 15,
     "metadata": {},
     "output_type": "execute_result"
    }
   ],
   "source": [
    "# identifying outliers for JobLevel 1 using the 1.5 IQR method\n",
    "l1 = employee[employee['JobLevel']==1].copy()\n",
    "Q1 = l1['MonthlyIncome'].quantile(0.25)\n",
    "Q3 = l1['MonthlyIncome'].quantile(0.75)\n",
    "IQR = Q3 - Q1\n",
    "l1_outliers = l1[(l1['MonthlyIncome'] > 1.5 * IQR + Q3) |\n",
    "                 (l1['MonthlyIncome'] < Q1 - 1.5 * IQR)]\n",
    "\n",
    "l1['is_outlier'] = np.where((l1['MonthlyIncome'] > 1.5 * IQR + Q3) |\n",
    "                            (l1['MonthlyIncome'] < Q1 - 1.5 * IQR), 1, 0)\n",
    "l1.head()\n"
   ]
  },
  {
   "cell_type": "code",
   "execution_count": 16,
   "id": "be141da5",
   "metadata": {},
   "outputs": [
    {
     "data": {
      "text/html": [
       "<div>\n",
       "<style scoped>\n",
       "    .dataframe tbody tr th:only-of-type {\n",
       "        vertical-align: middle;\n",
       "    }\n",
       "\n",
       "    .dataframe tbody tr th {\n",
       "        vertical-align: top;\n",
       "    }\n",
       "\n",
       "    .dataframe thead th {\n",
       "        text-align: right;\n",
       "    }\n",
       "</style>\n",
       "<table border=\"1\" class=\"dataframe\">\n",
       "  <thead>\n",
       "    <tr style=\"text-align: right;\">\n",
       "      <th></th>\n",
       "      <th>MonthlyIncome</th>\n",
       "      <th>isMale</th>\n",
       "      <th>JobRole</th>\n",
       "      <th>Department</th>\n",
       "      <th>EducationField</th>\n",
       "      <th>JobLevel</th>\n",
       "      <th>TotalWorkingYears</th>\n",
       "      <th>edu_2</th>\n",
       "      <th>edu_3</th>\n",
       "      <th>edu_4</th>\n",
       "      <th>edu_5</th>\n",
       "      <th>is_match</th>\n",
       "      <th>is_junior</th>\n",
       "      <th>is_senior</th>\n",
       "      <th>is_outlier</th>\n",
       "    </tr>\n",
       "  </thead>\n",
       "  <tbody>\n",
       "    <tr>\n",
       "      <th>0</th>\n",
       "      <td>5993</td>\n",
       "      <td>0</td>\n",
       "      <td>Sales Executive</td>\n",
       "      <td>Sales</td>\n",
       "      <td>Life Sciences</td>\n",
       "      <td>2</td>\n",
       "      <td>8</td>\n",
       "      <td>1</td>\n",
       "      <td>0</td>\n",
       "      <td>0</td>\n",
       "      <td>0</td>\n",
       "      <td>0</td>\n",
       "      <td>1</td>\n",
       "      <td>0</td>\n",
       "      <td>0</td>\n",
       "    </tr>\n",
       "    <tr>\n",
       "      <th>1</th>\n",
       "      <td>5130</td>\n",
       "      <td>1</td>\n",
       "      <td>Research Scientist</td>\n",
       "      <td>Research &amp; Development</td>\n",
       "      <td>Life Sciences</td>\n",
       "      <td>2</td>\n",
       "      <td>10</td>\n",
       "      <td>0</td>\n",
       "      <td>0</td>\n",
       "      <td>0</td>\n",
       "      <td>0</td>\n",
       "      <td>1</td>\n",
       "      <td>1</td>\n",
       "      <td>0</td>\n",
       "      <td>0</td>\n",
       "    </tr>\n",
       "    <tr>\n",
       "      <th>9</th>\n",
       "      <td>5237</td>\n",
       "      <td>1</td>\n",
       "      <td>Healthcare Representative</td>\n",
       "      <td>Research &amp; Development</td>\n",
       "      <td>Medical</td>\n",
       "      <td>2</td>\n",
       "      <td>17</td>\n",
       "      <td>0</td>\n",
       "      <td>1</td>\n",
       "      <td>0</td>\n",
       "      <td>0</td>\n",
       "      <td>0</td>\n",
       "      <td>0</td>\n",
       "      <td>1</td>\n",
       "      <td>0</td>\n",
       "    </tr>\n",
       "    <tr>\n",
       "      <th>11</th>\n",
       "      <td>4193</td>\n",
       "      <td>0</td>\n",
       "      <td>Laboratory Technician</td>\n",
       "      <td>Research &amp; Development</td>\n",
       "      <td>Life Sciences</td>\n",
       "      <td>2</td>\n",
       "      <td>10</td>\n",
       "      <td>1</td>\n",
       "      <td>0</td>\n",
       "      <td>0</td>\n",
       "      <td>0</td>\n",
       "      <td>0</td>\n",
       "      <td>1</td>\n",
       "      <td>0</td>\n",
       "      <td>0</td>\n",
       "    </tr>\n",
       "    <tr>\n",
       "      <th>20</th>\n",
       "      <td>4011</td>\n",
       "      <td>0</td>\n",
       "      <td>Manufacturing Director</td>\n",
       "      <td>Research &amp; Development</td>\n",
       "      <td>Other</td>\n",
       "      <td>2</td>\n",
       "      <td>5</td>\n",
       "      <td>1</td>\n",
       "      <td>0</td>\n",
       "      <td>0</td>\n",
       "      <td>0</td>\n",
       "      <td>0</td>\n",
       "      <td>1</td>\n",
       "      <td>0</td>\n",
       "      <td>0</td>\n",
       "    </tr>\n",
       "  </tbody>\n",
       "</table>\n",
       "</div>"
      ],
      "text/plain": [
       "    MonthlyIncome  isMale                    JobRole              Department  \\\n",
       "0            5993       0            Sales Executive                   Sales   \n",
       "1            5130       1         Research Scientist  Research & Development   \n",
       "9            5237       1  Healthcare Representative  Research & Development   \n",
       "11           4193       0      Laboratory Technician  Research & Development   \n",
       "20           4011       0     Manufacturing Director  Research & Development   \n",
       "\n",
       "   EducationField  JobLevel  TotalWorkingYears  edu_2  edu_3  edu_4  edu_5  \\\n",
       "0   Life Sciences         2                  8      1      0      0      0   \n",
       "1   Life Sciences         2                 10      0      0      0      0   \n",
       "9         Medical         2                 17      0      1      0      0   \n",
       "11  Life Sciences         2                 10      1      0      0      0   \n",
       "20          Other         2                  5      1      0      0      0   \n",
       "\n",
       "    is_match  is_junior  is_senior  is_outlier  \n",
       "0          0          1          0           0  \n",
       "1          1          1          0           0  \n",
       "9          0          0          1           0  \n",
       "11         0          1          0           0  \n",
       "20         0          1          0           0  "
      ]
     },
     "execution_count": 16,
     "metadata": {},
     "output_type": "execute_result"
    }
   ],
   "source": [
    "# identifying the outliers for JobLevel 2 using the 1.5 IQR method\n",
    "l2 = employee[employee['JobLevel'] == 2].copy()\n",
    "Q1 = l2['MonthlyIncome'].quantile(0.25)\n",
    "Q3 = l2['MonthlyIncome'].quantile(0.75)\n",
    "IQR = Q3 - Q1\n",
    "l2_outliers = l2[(l2['MonthlyIncome'] > 1.5 * IQR + Q3) |\n",
    "                 (l2['MonthlyIncome'] < Q1 - 1.5 * IQR)]\n",
    "l2['is_outlier'] = np.where((l2['MonthlyIncome'] > 1.5 * IQR + Q3) |\n",
    "                            (l2['MonthlyIncome'] < Q1 - 1.5 * IQR), 1, 0)\n",
    "l2.head()\n"
   ]
  },
  {
   "cell_type": "markdown",
   "id": "dcbc0251",
   "metadata": {},
   "source": [
    "#### 2.5b. Analyzing Outliers in JobLevel1 and 2"
   ]
  },
  {
   "cell_type": "code",
   "execution_count": 17,
   "id": "f64b1241",
   "metadata": {},
   "outputs": [
    {
     "data": {
      "text/plain": [
       "<AxesSubplot:xlabel='is_outlier', ylabel='TotalWorkingYears'>"
      ]
     },
     "execution_count": 17,
     "metadata": {},
     "output_type": "execute_result"
    },
    {
     "data": {
      "image/png": "[encoded data removed]",
      "text/plain": [
       "<Figure size 432x288 with 1 Axes>"
      ]
     },
     "metadata": {
      "needs_background": "light"
     },
     "output_type": "display_data"
    }
   ],
   "source": [
    "# outliers in JobLevel 1 do not exibit significant difference in working years\n",
    "sns.boxplot(data=l1, x='is_outlier', y='TotalWorkingYears')\n"
   ]
  },
  {
   "cell_type": "code",
   "execution_count": 18,
   "id": "3c58554b",
   "metadata": {},
   "outputs": [
    {
     "data": {
      "text/plain": [
       "<AxesSubplot:xlabel='is_outlier', ylabel='TotalWorkingYears'>"
      ]
     },
     "execution_count": 18,
     "metadata": {},
     "output_type": "execute_result"
    },
    {
     "data": {
      "image/png": "[encoded data removed]",
      "text/plain": [
       "<Figure size 432x288 with 1 Axes>"
      ]
     },
     "metadata": {
      "needs_background": "light"
     },
     "output_type": "display_data"
    }
   ],
   "source": [
    "# outliers in JobLevel 2 do not exibit significant difference in working years\n",
    "sns.boxplot(data=l2, x='is_outlier', y='TotalWorkingYears')\n"
   ]
  },
  {
   "cell_type": "markdown",
   "id": "50c7bc9a",
   "metadata": {},
   "source": [
    "#### Remove Outliers"
   ]
  },
  {
   "cell_type": "code",
   "execution_count": 19,
   "id": "3fa56136",
   "metadata": {},
   "outputs": [],
   "source": [
    "d1_employee = pd.merge(d1_employee, l1_outliers, indicator=True, how='outer')\\\n",
    "      .query('_merge==\"left_only\"')\\\n",
    "      .drop('_merge', axis=1)\n",
    "d1_employee = pd.merge(d1_employee, l2_outliers, indicator=True, how='outer')\\\n",
    "    .query('_merge==\"left_only\"')\\\n",
    "    .drop('_merge', axis=1)\n"
   ]
  },
  {
   "cell_type": "markdown",
   "id": "85d03e6e",
   "metadata": {},
   "source": [
    "### 3. Statistical Analysis"
   ]
  },
  {
   "cell_type": "markdown",
   "id": "87422def",
   "metadata": {},
   "source": [
    "### Model 1 : Education Level and is_match"
   ]
  },
  {
   "cell_type": "code",
   "execution_count": 20,
   "id": "3ed502ad",
   "metadata": {},
   "outputs": [
    {
     "name": "stdout",
     "output_type": "stream",
     "text": [
      "                            OLS Regression Results                            \n",
      "==============================================================================\n",
      "Dep. Variable:          MonthlyIncome   R-squared:                       0.599\n",
      "Model:                            OLS   Adj. R-squared:                  0.598\n",
      "Method:                 Least Squares   F-statistic:                     364.5\n",
      "Date:                Sun, 05 Dec 2021   Prob (F-statistic):          3.65e-286\n",
      "Time:                        20:19:51   Log-Likelihood:                -13845.\n",
      "No. Observations:                1470   AIC:                         2.770e+04\n",
      "Df Residuals:                    1463   BIC:                         2.774e+04\n",
      "Df Model:                           6                                         \n",
      "Covariance Type:            nonrobust                                         \n",
      "=====================================================================================\n",
      "                        coef    std err          t      P>|t|      [0.025      0.975]\n",
      "-------------------------------------------------------------------------------------\n",
      "const              1406.8494    260.239      5.406      0.000     896.368    1917.331\n",
      "is_match            197.1806    156.859      1.257      0.209    -110.511     504.872\n",
      "TotalWorkingYears   469.2105     10.136     46.291      0.000     449.328     489.093\n",
      "edu_2              -296.2464    291.168     -1.017      0.309    -867.398     274.906\n",
      "edu_3              -282.4017    262.112     -1.077      0.281    -796.558     231.754\n",
      "edu_4              -503.5532    276.465     -1.821      0.069   -1045.864      38.758\n",
      "edu_5               127.1873    491.498      0.259      0.796    -836.929    1091.303\n",
      "==============================================================================\n",
      "Omnibus:                       40.556   Durbin-Watson:                   2.002\n",
      "Prob(Omnibus):                  0.000   Jarque-Bera (JB):               65.434\n",
      "Skew:                           0.241   Prob(JB):                     6.18e-15\n",
      "Kurtosis:                       3.914   Cond. No.                         103.\n",
      "==============================================================================\n",
      "\n",
      "Notes:\n",
      "[1] Standard Errors assume that the covariance matrix of the errors is correctly specified.\n"
     ]
    }
   ],
   "source": [
    "# Running OLS based on education level and is_match\n",
    "explan_vars = ['is_match', 'TotalWorkingYears']\n",
    "\n",
    "for i in employee.columns:\n",
    "    if 'edu_' in i:\n",
    "        explan_vars.append(i)\n",
    "X = employee.loc[:, explan_vars]\n",
    "y = employee.loc[:, 'MonthlyIncome']\n",
    "\n",
    "X = sm.add_constant(X)\n",
    "result = sm.OLS(y, X).fit()\n",
    "\n",
    "print(result.summary())\n"
   ]
  },
  {
   "cell_type": "markdown",
   "id": "f213dd6b",
   "metadata": {},
   "source": [
    "In this model, we observe that the employees' relevant background is positively correlated with their salary. However, the relationship is not statistically significant. \n",
    "\n",
    "Counterintuitively, a higher education level is negatively correlated with the salary, though the relationship is also not statistically significant. A possible explanation to why a higher education level is negatively correlated with salary could be due to how specific education levels are expected and valued differently across different job types along with seniority levels. For instance, job experience might be a bigger factor to consider over job relevance especially for managerial roles. \n",
    "\n",
    "Therefore, we will further examine the relationship between different job seniority levels along with the various departments."
   ]
  },
  {
   "cell_type": "markdown",
   "id": "c1c785c6",
   "metadata": {},
   "source": [
    "### Model 2 : Education level and is_match for only senior employees (>10 years)"
   ]
  },
  {
   "cell_type": "code",
   "execution_count": 21,
   "id": "4ee67840",
   "metadata": {},
   "outputs": [
    {
     "name": "stdout",
     "output_type": "stream",
     "text": [
      "                            OLS Regression Results                            \n",
      "==============================================================================\n",
      "Dep. Variable:          MonthlyIncome   R-squared:                       0.472\n",
      "Model:                            OLS   Adj. R-squared:                  0.466\n",
      "Method:                 Least Squares   F-statistic:                     78.96\n",
      "Date:                Sun, 05 Dec 2021   Prob (F-statistic):           2.34e-70\n",
      "Time:                        20:19:51   Log-Likelihood:                -5228.6\n",
      "No. Observations:                 538   AIC:                         1.047e+04\n",
      "Df Residuals:                     531   BIC:                         1.050e+04\n",
      "Df Model:                           6                                         \n",
      "Covariance Type:            nonrobust                                         \n",
      "=====================================================================================\n",
      "                        coef    std err          t      P>|t|      [0.025      0.975]\n",
      "-------------------------------------------------------------------------------------\n",
      "const              -353.7444    828.058     -0.427      0.669   -1980.416    1272.927\n",
      "is_match           1596.0648    353.263      4.518      0.000     902.100    2290.030\n",
      "TotalWorkingYears   552.1726     26.419     20.900      0.000     500.274     604.072\n",
      "edu_2             -1073.0472    748.323     -1.434      0.152   -2543.084     396.989\n",
      "edu_3             -1228.8905    684.947     -1.794      0.073   -2574.429     116.648\n",
      "edu_4             -1393.5201    698.534     -1.995      0.047   -2765.749     -21.291\n",
      "edu_5             -1955.9604   1086.116     -1.801      0.072   -4089.572     177.651\n",
      "==============================================================================\n",
      "Omnibus:                       24.713   Durbin-Watson:                   2.030\n",
      "Prob(Omnibus):                  0.000   Jarque-Bera (JB):               10.616\n",
      "Skew:                          -0.021   Prob(JB):                      0.00495\n",
      "Kurtosis:                       2.313   Cond. No.                         177.\n",
      "==============================================================================\n",
      "\n",
      "Notes:\n",
      "[1] Standard Errors assume that the covariance matrix of the errors is correctly specified.\n"
     ]
    }
   ],
   "source": [
    "# Running OLS based on education level and is_match, filtering only senior employees\n",
    "employee = d1_employee\n",
    "employee = employee.loc[(employee['TotalWorkingYears'] > 10)]\n",
    "explan_vars = ['is_match', 'TotalWorkingYears']\n",
    "\n",
    "for i in employee.columns:\n",
    "    if 'edu_' in i:\n",
    "        explan_vars.append(i)\n",
    "X = employee.loc[:, explan_vars]\n",
    "y = employee.loc[:, 'MonthlyIncome']\n",
    "\n",
    "X = sm.add_constant(X)\n",
    "result = sm.OLS(y, X).fit()\n",
    "\n",
    "print(result.summary())\n"
   ]
  },
  {
   "cell_type": "markdown",
   "id": "b7321d2c",
   "metadata": {},
   "source": [
    "In this model, we focus on employees with more than 10 years of work experience as the sample. We examine the relationship between total working years and education level to see whether a statistically significant correlation can be found. From the results, we can see a statistically significant and positive correlation between the matched education background and salary. \n",
    "\n",
    "However, the p-value of the constant is greater than the significance level at 0.05. This means that we do not have sufficient evidence to conclude that employees with the lowest level of education are correlated with their salary performance.\n",
    "\n",
    "Furthermore, with the updated sample scope, the R-squared value is lower relative to Model 1. Therefore, we should explore other models.\n"
   ]
  },
  {
   "cell_type": "markdown",
   "id": "fe093f51",
   "metadata": {},
   "source": [
    "### Model 3 : Education level and is_match for Junior employees (2 < years < 10)"
   ]
  },
  {
   "cell_type": "code",
   "execution_count": 22,
   "id": "4db94778",
   "metadata": {},
   "outputs": [
    {
     "name": "stdout",
     "output_type": "stream",
     "text": [
      "                            OLS Regression Results                            \n",
      "==============================================================================\n",
      "Dep. Variable:          MonthlyIncome   R-squared:                       0.240\n",
      "Model:                            OLS   Adj. R-squared:                  0.234\n",
      "Method:                 Least Squares   F-statistic:                     40.24\n",
      "Date:                Sun, 05 Dec 2021   Prob (F-statistic):           1.20e-42\n",
      "Time:                        20:19:51   Log-Likelihood:                -6966.8\n",
      "No. Observations:                 771   AIC:                         1.395e+04\n",
      "Df Residuals:                     764   BIC:                         1.398e+04\n",
      "Df Model:                           6                                         \n",
      "Covariance Type:            nonrobust                                         \n",
      "=====================================================================================\n",
      "                        coef    std err          t      P>|t|      [0.025      0.975]\n",
      "-------------------------------------------------------------------------------------\n",
      "const              1484.6073    313.705      4.732      0.000     868.781    2100.434\n",
      "is_match           -653.4592    148.776     -4.392      0.000    -945.518    -361.400\n",
      "TotalWorkingYears   464.3221     33.786     13.743      0.000     397.998     530.646\n",
      "edu_2                25.7700    266.823      0.097      0.923    -498.022     549.562\n",
      "edu_3               165.0816    241.687      0.683      0.495    -309.368     639.531\n",
      "edu_4                21.2028    256.786      0.083      0.934    -482.887     525.292\n",
      "edu_5              1199.4687    471.144      2.546      0.011     274.577    2124.360\n",
      "==============================================================================\n",
      "Omnibus:                      228.661   Durbin-Watson:                   1.949\n",
      "Prob(Omnibus):                  0.000   Jarque-Bera (JB):              826.249\n",
      "Skew:                           1.376   Prob(JB):                    3.82e-180\n",
      "Kurtosis:                       7.260   Cond. No.                         56.7\n",
      "==============================================================================\n",
      "\n",
      "Notes:\n",
      "[1] Standard Errors assume that the covariance matrix of the errors is correctly specified.\n"
     ]
    }
   ],
   "source": [
    "# Running OLS based on education level and is_match, filtering only junior employees\n",
    "employee = d1_employee\n",
    "employee = employee.loc[(employee['TotalWorkingYears'] > 2) & (employee['TotalWorkingYears'] <= 10)]\n",
    "\n",
    "explan_vars = ['is_match', 'TotalWorkingYears']\n",
    "\n",
    "for i in employee.columns:\n",
    "    if 'edu_' in i:\n",
    "        explan_vars.append(i)\n",
    "X = employee.loc[:, explan_vars]\n",
    "y = employee.loc[:, 'MonthlyIncome']\n",
    "\n",
    "X = sm.add_constant(X)\n",
    "result = sm.OLS(y, X).fit()\n",
    "\n",
    "print(result.summary())\n"
   ]
  },
  {
   "cell_type": "markdown",
   "id": "8bbf49f4",
   "metadata": {},
   "source": [
    "For this model, we focus only on employees who have had at least 2 but not more than 10 years of work experience at the company. Initially, we found that these junior level employees who have a base education level and a job-relevant education background have a statistically significant correlation with salary in the model. A relevant education background on average reduces the salary by $653.46.\n",
    "\n",
    "In order to validate this, we studied the p-values of the junior employees with higher education levels and found insufficient evidence to conclude that those who received advanced education would be significantly correlated with their salary performance except for those with a PhD.\n",
    "\n",
    "Even though this model shows that Junior employees with a PhD has a statistically significant correlation with salary, we also note that R-squared has reduced to 0.24, which suggests a possible bias to to a smaller sample size. Hence, we will continue looking at other factors.\n",
    "\n"
   ]
  },
  {
   "cell_type": "markdown",
   "id": "7db5fe95",
   "metadata": {},
   "source": [
    "### Model 4 : Education level and is_match for only New Grad employees ($\\leq$ 2 years)"
   ]
  },
  {
   "cell_type": "code",
   "execution_count": 23,
   "id": "6d9b058b",
   "metadata": {},
   "outputs": [
    {
     "name": "stdout",
     "output_type": "stream",
     "text": [
      "                            OLS Regression Results                            \n",
      "==============================================================================\n",
      "Dep. Variable:          MonthlyIncome   R-squared:                       0.243\n",
      "Model:                            OLS   Adj. R-squared:                  0.204\n",
      "Method:                 Least Squares   F-statistic:                     6.197\n",
      "Date:                Sun, 05 Dec 2021   Prob (F-statistic):           1.15e-05\n",
      "Time:                        20:19:51   Log-Likelihood:                -946.12\n",
      "No. Observations:                 123   AIC:                             1906.\n",
      "Df Residuals:                     116   BIC:                             1926.\n",
      "Df Model:                           6                                         \n",
      "Covariance Type:            nonrobust                                         \n",
      "=====================================================================================\n",
      "                        coef    std err          t      P>|t|      [0.025      0.975]\n",
      "-------------------------------------------------------------------------------------\n",
      "const              1604.0782    154.533     10.380      0.000    1298.006    1910.150\n",
      "is_match            103.1119    100.472      1.026      0.307     -95.885     302.109\n",
      "TotalWorkingYears   502.4943     89.905      5.589      0.000     324.426     680.563\n",
      "edu_2                -5.1972    159.427     -0.033      0.974    -320.961     310.567\n",
      "edu_3                -2.6572    126.892     -0.021      0.983    -253.984     248.669\n",
      "edu_4               120.4173    181.034      0.665      0.507    -238.143     478.978\n",
      "edu_5               243.8214    562.914      0.433      0.666    -871.101    1358.744\n",
      "==============================================================================\n",
      "Omnibus:                        5.117   Durbin-Watson:                   1.990\n",
      "Prob(Omnibus):                  0.077   Jarque-Bera (JB):                3.845\n",
      "Skew:                          -0.306   Prob(JB):                        0.146\n",
      "Kurtosis:                       2.386   Cond. No.                         20.3\n",
      "==============================================================================\n",
      "\n",
      "Notes:\n",
      "[1] Standard Errors assume that the covariance matrix of the errors is correctly specified.\n"
     ]
    }
   ],
   "source": [
    "# Running OLS based on education level and is_match, filtering only new_grad employees\n",
    "employee = d1_employee\n",
    "employee = employee.loc[(employee['TotalWorkingYears'] <= 2)]\n",
    "\n",
    "explan_vars = ['is_match', 'TotalWorkingYears']\n",
    "\n",
    "for i in employee.columns:\n",
    "    if 'edu_' in i:\n",
    "        explan_vars.append(i)\n",
    "X = employee.loc[:, explan_vars]\n",
    "y = employee.loc[:, 'MonthlyIncome']\n",
    "\n",
    "X = sm.add_constant(X)\n",
    "result = sm.OLS(y, X).fit()\n",
    "\n",
    "print(result.summary())\n"
   ]
  },
  {
   "cell_type": "markdown",
   "id": "dd6745b8",
   "metadata": {},
   "source": [
    "Continuing on with the segregated models, we now focus on fresh graduates with less than or equal to 2 year years of work experience in the company. Neither is_match nor any of the education levels yielded a statistically significant result indicating education's impact on salary.\n",
    "\n",
    "As a conclusion to the models thus far, there is no statistically significant coefficient on relevant education background and education levels. The R-squared scores are all lower relative to the base model done on the entire population. In addition, our job-level variables were generated from \"total working years\", which potentially caused multicollinearity issues and reduced the explanatory power of those variables in the model.\n"
   ]
  },
  {
   "cell_type": "markdown",
   "id": "fee39e0c",
   "metadata": {},
   "source": [
    "### Model 5 : Education level and is_match for only the Sales Department"
   ]
  },
  {
   "cell_type": "code",
   "execution_count": 24,
   "id": "f6e746e1",
   "metadata": {},
   "outputs": [
    {
     "name": "stdout",
     "output_type": "stream",
     "text": [
      "                            OLS Regression Results                            \n",
      "==============================================================================\n",
      "Dep. Variable:          MonthlyIncome   R-squared:                       0.629\n",
      "Model:                            OLS   Adj. R-squared:                  0.623\n",
      "Method:                 Least Squares   F-statistic:                     119.9\n",
      "Date:                Sun, 05 Dec 2021   Prob (F-statistic):           3.32e-88\n",
      "Time:                        20:19:51   Log-Likelihood:                -3991.7\n",
      "No. Observations:                 432   AIC:                             7997.\n",
      "Df Residuals:                     425   BIC:                             8026.\n",
      "Df Model:                           6                                         \n",
      "Covariance Type:            nonrobust                                         \n",
      "=====================================================================================\n",
      "                        coef    std err          t      P>|t|      [0.025      0.975]\n",
      "-------------------------------------------------------------------------------------\n",
      "const              2108.9166    387.523      5.442      0.000    1347.215    2870.618\n",
      "is_match             44.0891    256.571      0.172      0.864    -460.216     548.395\n",
      "TotalWorkingYears   420.6353     16.017     26.261      0.000     389.152     452.118\n",
      "edu_2               -81.7757    451.575     -0.181      0.856    -969.374     805.822\n",
      "edu_3               185.8168    413.769      0.449      0.654    -627.471     999.104\n",
      "edu_4                 4.5792    430.042      0.011      0.992    -840.694     849.852\n",
      "edu_5               486.5356    773.681      0.629      0.530   -1034.183    2007.254\n",
      "==============================================================================\n",
      "Omnibus:                       19.076   Durbin-Watson:                   1.959\n",
      "Prob(Omnibus):                  0.000   Jarque-Bera (JB):               46.583\n",
      "Skew:                           0.116   Prob(JB):                     7.67e-11\n",
      "Kurtosis:                       4.592   Cond. No.                         103.\n",
      "==============================================================================\n",
      "\n",
      "Notes:\n",
      "[1] Standard Errors assume that the covariance matrix of the errors is correctly specified.\n"
     ]
    }
   ],
   "source": [
    "# Focus on the Sales department\n",
    "employee = d1_employee\n",
    "employee = employee.loc[(employee['Department'] == 'Sales')]\n",
    "\n",
    "explan_vars = ['is_match', 'TotalWorkingYears']\n",
    "\n",
    "for i in employee.columns:\n",
    "    if 'edu_' in i:\n",
    "        explan_vars.append(i)\n",
    "X = employee.loc[:, explan_vars]\n",
    "y = employee.loc[:, 'MonthlyIncome']\n",
    "\n",
    "X = sm.add_constant(X)\n",
    "result = sm.OLS(y, X).fit()\n",
    "\n",
    "print(result.summary())\n"
   ]
  },
  {
   "cell_type": "markdown",
   "id": "09f86514",
   "metadata": {},
   "source": [
    "None of the education level and education relevance variables show statistically significance in this model.\n",
    "\n",
    "Education level as well as the relevancy of the education field have very little explanatory power in terms of understanding teh salary of Sales Department employees. This is despite the matching education background and higher education level being associated with a higher salary."
   ]
  },
  {
   "cell_type": "markdown",
   "id": "da5a9111",
   "metadata": {},
   "source": [
    "### Model 6 : Education level and is_match for only the Research and Development Department"
   ]
  },
  {
   "cell_type": "code",
   "execution_count": 25,
   "id": "fbeff316",
   "metadata": {},
   "outputs": [
    {
     "name": "stdout",
     "output_type": "stream",
     "text": [
      "                            OLS Regression Results                            \n",
      "==============================================================================\n",
      "Dep. Variable:          MonthlyIncome   R-squared:                       0.601\n",
      "Model:                            OLS   Adj. R-squared:                  0.599\n",
      "Method:                 Least Squares   F-statistic:                     233.9\n",
      "Date:                Sun, 05 Dec 2021   Prob (F-statistic):          5.80e-182\n",
      "Time:                        20:19:51   Log-Likelihood:                -8877.7\n",
      "No. Observations:                 938   AIC:                         1.777e+04\n",
      "Df Residuals:                     931   BIC:                         1.780e+04\n",
      "Df Model:                           6                                         \n",
      "Covariance Type:            nonrobust                                         \n",
      "=====================================================================================\n",
      "                        coef    std err          t      P>|t|      [0.025      0.975]\n",
      "-------------------------------------------------------------------------------------\n",
      "const               802.4251    351.656      2.282      0.023     112.294    1492.556\n",
      "is_match            561.9319    210.748      2.666      0.008     148.336     975.528\n",
      "TotalWorkingYears   488.8519     13.180     37.092      0.000     462.987     514.717\n",
      "edu_2              -245.1997    379.053     -0.647      0.518    -989.096     498.697\n",
      "edu_3              -432.6750    338.869     -1.277      0.202   -1097.710     232.360\n",
      "edu_4              -805.3428    361.422     -2.228      0.026   -1514.640     -96.046\n",
      "edu_5               -71.9178    656.874     -0.109      0.913   -1361.042    1217.207\n",
      "==============================================================================\n",
      "Omnibus:                       27.510   Durbin-Watson:                   1.958\n",
      "Prob(Omnibus):                  0.000   Jarque-Bera (JB):               39.376\n",
      "Skew:                           0.283   Prob(JB):                     2.82e-09\n",
      "Kurtosis:                       3.829   Cond. No.                         104.\n",
      "==============================================================================\n",
      "\n",
      "Notes:\n",
      "[1] Standard Errors assume that the covariance matrix of the errors is correctly specified.\n"
     ]
    }
   ],
   "source": [
    "# Focus on the Research & Development department\n",
    "employee = d1_employee\n",
    "employee = employee.loc[(employee['Department'] == 'Research & Development')]\n",
    "\n",
    "explan_vars = ['is_match', 'TotalWorkingYears']\n",
    "\n",
    "for i in employee.columns:\n",
    "    if 'edu_' in i:\n",
    "        explan_vars.append(i)\n",
    "X = employee.loc[:, explan_vars]\n",
    "y = employee.loc[:, 'MonthlyIncome']\n",
    "\n",
    "X = sm.add_constant(X)\n",
    "result = sm.OLS(y, X).fit()\n",
    "\n",
    "print(result.summary())\n"
   ]
  },
  {
   "cell_type": "markdown",
   "id": "532a2940",
   "metadata": {},
   "source": [
    "Within the R&D Department, employees with a base education level and a job-relevant background have a statistically significant positive correlation with salary in this model. A relevant education background results in an average salary increase of $561.93. \n",
    "\n",
    "The R&D department consists of roles like Research Scientist, Lab Manager, and Technician. These roles generally require specialized training and domain knowledge, which could explain the increase in salary for those who hold relevant skill sets.\n",
    "\n",
    "Counterintuitively, the various education levels do not make a statistically significant difference in explaining the employees' salaries."
   ]
  },
  {
   "cell_type": "markdown",
   "id": "045c645f",
   "metadata": {},
   "source": [
    "### Model 7 : Education level and is_match for only the Huamn Resources Department"
   ]
  },
  {
   "cell_type": "code",
   "execution_count": 26,
   "id": "bd5f5d1d",
   "metadata": {},
   "outputs": [
    {
     "name": "stdout",
     "output_type": "stream",
     "text": [
      "                            OLS Regression Results                            \n",
      "==============================================================================\n",
      "Dep. Variable:          MonthlyIncome   R-squared:                       0.806\n",
      "Model:                            OLS   Adj. R-squared:                  0.785\n",
      "Method:                 Least Squares   F-statistic:                     38.19\n",
      "Date:                Sun, 05 Dec 2021   Prob (F-statistic):           6.78e-18\n",
      "Time:                        20:19:51   Log-Likelihood:                -574.17\n",
      "No. Observations:                  62   AIC:                             1162.\n",
      "Df Residuals:                      55   BIC:                             1177.\n",
      "Df Model:                           6                                         \n",
      "Covariance Type:            nonrobust                                         \n",
      "=====================================================================================\n",
      "                        coef    std err          t      P>|t|      [0.025      0.975]\n",
      "-------------------------------------------------------------------------------------\n",
      "const              -325.7362   1259.162     -0.259      0.797   -2849.153    2197.680\n",
      "is_match            954.1718    738.567      1.292      0.202    -525.949    2434.292\n",
      "TotalWorkingYears   566.8057     41.042     13.810      0.000     484.555     649.057\n",
      "edu_2             -1014.5859   1467.516     -0.691      0.492   -3955.554    1926.382\n",
      "edu_3               -70.8841   1352.355     -0.052      0.958   -2781.065    2639.296\n",
      "edu_4               952.2170   1463.323      0.651      0.518   -1980.348    3884.782\n",
      "edu_5              -232.3613   1989.326     -0.117      0.907   -4219.060    3754.337\n",
      "==============================================================================\n",
      "Omnibus:                        1.861   Durbin-Watson:                   1.703\n",
      "Prob(Omnibus):                  0.394   Jarque-Bera (JB):                1.657\n",
      "Skew:                           0.395   Prob(JB):                        0.437\n",
      "Kurtosis:                       2.870   Cond. No.                         123.\n",
      "==============================================================================\n",
      "\n",
      "Notes:\n",
      "[1] Standard Errors assume that the covariance matrix of the errors is correctly specified.\n"
     ]
    }
   ],
   "source": [
    "# Focus on the Human Resources department\n",
    "employee = d1_employee\n",
    "employee = employee.loc[(employee['Department'] == 'Human Resources')]\n",
    "\n",
    "explan_vars = ['is_match', 'TotalWorkingYears']\n",
    "\n",
    "for i in employee.columns:\n",
    "    if 'edu_' in i:\n",
    "        explan_vars.append(i)\n",
    "X = employee.loc[:, explan_vars]\n",
    "y = employee.loc[:, 'MonthlyIncome']\n",
    "\n",
    "X = sm.add_constant(X)\n",
    "result = sm.OLS(y, X).fit()\n",
    "\n",
    "print(result.summary())\n"
   ]
  },
  {
   "cell_type": "markdown",
   "id": "f6fa5a0e",
   "metadata": {},
   "source": [
    "Similar to Model 6's findings, a relevant education background or higher education background does not lead to a higher salary for employees in the HR department, as none of the education level and relevance variables show statistical significance in this model."
   ]
  },
  {
   "cell_type": "markdown",
   "id": "7f94b0b6",
   "metadata": {},
   "source": [
    "## Models 8-10: Adding interaction between Job Level and Department to our model to test our previous findings"
   ]
  },
  {
   "cell_type": "markdown",
   "id": "52087854",
   "metadata": {},
   "source": [
    "### Model 8 : Education level and is_match, interaction between Job Level and Sales Department"
   ]
  },
  {
   "cell_type": "code",
   "execution_count": 27,
   "id": "43893b1a",
   "metadata": {},
   "outputs": [
    {
     "name": "stdout",
     "output_type": "stream",
     "text": [
      "                            OLS Regression Results                            \n",
      "==============================================================================\n",
      "Dep. Variable:          MonthlyIncome   R-squared:                       0.649\n",
      "Model:                            OLS   Adj. R-squared:                  0.640\n",
      "Method:                 Least Squares   F-statistic:                     77.78\n",
      "Date:                Sun, 05 Dec 2021   Prob (F-statistic):           3.32e-89\n",
      "Time:                        20:19:51   Log-Likelihood:                -3979.7\n",
      "No. Observations:                 432   AIC:                             7981.\n",
      "Df Residuals:                     421   BIC:                             8026.\n",
      "Df Model:                          10                                         \n",
      "Covariance Type:            nonrobust                                         \n",
      "===============================================================================================\n",
      "                                  coef    std err          t      P>|t|      [0.025      0.975]\n",
      "-----------------------------------------------------------------------------------------------\n",
      "Intercept                    1722.2548    940.563      1.831      0.068    -126.530    3571.039\n",
      "is_match                       72.6874    251.225      0.289      0.772    -421.125     566.500\n",
      "is_junior                     213.5901   1047.698      0.204      0.839   -1845.781    2272.961\n",
      "TotalWorkingYears             372.5857    685.975      0.543      0.587    -975.777    1720.948\n",
      "is_junior:TotalWorkingYears   147.9239    689.283      0.215      0.830   -1206.940    1502.788\n",
      "is_senior                   -1519.7607   1079.669     -1.408      0.160   -3641.974     602.452\n",
      "is_senior:TotalWorkingYears   133.1876    686.340      0.194      0.846   -1215.892    1482.267\n",
      "edu_2                        -310.0968    451.509     -0.687      0.493   -1197.590     577.396\n",
      "edu_3                          14.6519    409.212      0.036      0.971    -789.702     819.005\n",
      "edu_4                        -153.5943    430.712     -0.357      0.722   -1000.209     693.020\n",
      "edu_5                          57.6608    767.061      0.075      0.940   -1450.086    1565.407\n",
      "==============================================================================\n",
      "Omnibus:                       24.207   Durbin-Watson:                   1.954\n",
      "Prob(Omnibus):                  0.000   Jarque-Bera (JB):               59.718\n",
      "Skew:                           0.230   Prob(JB):                     1.08e-13\n",
      "Kurtosis:                       4.762   Cond. No.                         297.\n",
      "==============================================================================\n",
      "\n",
      "Notes:\n",
      "[1] Standard Errors assume that the covariance matrix of the errors is correctly specified.\n"
     ]
    }
   ],
   "source": [
    "# Sales department\n",
    "employee = d1_employee\n",
    "employee = employee.loc[(employee['Department'] == 'Sales')]\n",
    "\n",
    "explan_vars = ['is_match', 'is_junior * TotalWorkingYears',\n",
    "               'is_senior * TotalWorkingYears']\n",
    "formula = 'MonthlyIncome ~ '\n",
    "for i in employee.columns:\n",
    "    if 'edu_' in i:\n",
    "        explan_vars.append(i)\n",
    "for each in explan_vars[:-1]:\n",
    "    formula += (each + ' + ')\n",
    "formula += explan_vars[-1]\n",
    "# print(formula)\n",
    "X = sm.add_constant(X)\n",
    "result = smf.ols(\n",
    "    formula=formula, data=employee).fit()\n",
    "\n",
    "print(result.summary())\n"
   ]
  },
  {
   "cell_type": "markdown",
   "id": "b62d6da6",
   "metadata": {},
   "source": [
    "### Model 9 : Education level and is_match, interaction between Job Level and Research & Development Department"
   ]
  },
  {
   "cell_type": "code",
   "execution_count": 28,
   "id": "c9c3dcb7",
   "metadata": {},
   "outputs": [
    {
     "name": "stdout",
     "output_type": "stream",
     "text": [
      "                            OLS Regression Results                            \n",
      "==============================================================================\n",
      "Dep. Variable:          MonthlyIncome   R-squared:                       0.609\n",
      "Model:                            OLS   Adj. R-squared:                  0.604\n",
      "Method:                 Least Squares   F-statistic:                     144.1\n",
      "Date:                Sun, 05 Dec 2021   Prob (F-statistic):          4.07e-181\n",
      "Time:                        20:19:51   Log-Likelihood:                -8868.9\n",
      "No. Observations:                 938   AIC:                         1.776e+04\n",
      "Df Residuals:                     927   BIC:                         1.781e+04\n",
      "Df Model:                          10                                         \n",
      "Covariance Type:            nonrobust                                         \n",
      "===============================================================================================\n",
      "                                  coef    std err          t      P>|t|      [0.025      0.975]\n",
      "-----------------------------------------------------------------------------------------------\n",
      "Intercept                    1556.4902    858.383      1.813      0.070    -128.109    3241.089\n",
      "is_match                      544.2321    210.731      2.583      0.010     130.667     957.797\n",
      "is_junior                    -936.4486    938.914     -0.997      0.319   -2779.093     906.195\n",
      "TotalWorkingYears             595.4015    631.888      0.942      0.346    -644.696    1835.499\n",
      "is_junior:TotalWorkingYears   -94.3759    635.217     -0.149      0.882   -1341.006    1152.254\n",
      "is_senior                   -2482.8916    958.942     -2.589      0.010   -4364.840    -600.944\n",
      "is_senior:TotalWorkingYears   -29.6530    632.386     -0.047      0.963   -1270.726    1211.420\n",
      "edu_2                        -158.7081    378.474     -0.419      0.675    -901.472     584.056\n",
      "edu_3                        -389.3669    337.870     -1.152      0.249   -1052.445     273.711\n",
      "edu_4                        -679.2054    361.722     -1.878      0.061   -1389.094      30.683\n",
      "edu_5                          -8.6741    654.303     -0.013      0.989   -1292.760    1275.412\n",
      "==============================================================================\n",
      "Omnibus:                       40.187   Durbin-Watson:                   1.962\n",
      "Prob(Omnibus):                  0.000   Jarque-Bera (JB):               66.098\n",
      "Skew:                           0.340   Prob(JB):                     4.44e-15\n",
      "Kurtosis:                       4.108   Cond. No.                         322.\n",
      "==============================================================================\n",
      "\n",
      "Notes:\n",
      "[1] Standard Errors assume that the covariance matrix of the errors is correctly specified.\n"
     ]
    }
   ],
   "source": [
    "# Research & Development department\n",
    "employee = d1_employee\n",
    "employee = employee.loc[(employee['Department'] == 'Research & Development')]\n",
    "\n",
    "explan_vars = ['is_match', 'is_junior * TotalWorkingYears',\n",
    "               'is_senior * TotalWorkingYears']\n",
    "formula = 'MonthlyIncome ~ '\n",
    "for i in employee.columns:\n",
    "    if 'edu_' in i:\n",
    "        explan_vars.append(i)\n",
    "for each in explan_vars[:-1]:\n",
    "    formula += (each + ' + ')\n",
    "formula += explan_vars[-1]\n",
    "# print(formula)\n",
    "X = sm.add_constant(X)\n",
    "result = smf.ols(\n",
    "    formula=formula, data=employee).fit()\n",
    "\n",
    "print(result.summary())\n"
   ]
  },
  {
   "cell_type": "markdown",
   "id": "75ad85fd",
   "metadata": {},
   "source": [
    "### Model 10 : Education level and is_match, interaction between Job Level and Human Resources  Department\n"
   ]
  },
  {
   "cell_type": "code",
   "execution_count": 29,
   "id": "95316460",
   "metadata": {},
   "outputs": [
    {
     "name": "stdout",
     "output_type": "stream",
     "text": [
      "                            OLS Regression Results                            \n",
      "==============================================================================\n",
      "Dep. Variable:          MonthlyIncome   R-squared:                       0.820\n",
      "Model:                            OLS   Adj. R-squared:                  0.785\n",
      "Method:                 Least Squares   F-statistic:                     23.25\n",
      "Date:                Sun, 05 Dec 2021   Prob (F-statistic):           1.21e-15\n",
      "Time:                        20:19:51   Log-Likelihood:                -571.90\n",
      "No. Observations:                  62   AIC:                             1166.\n",
      "Df Residuals:                      51   BIC:                             1189.\n",
      "Df Model:                          10                                         \n",
      "Covariance Type:            nonrobust                                         \n",
      "===============================================================================================\n",
      "                                  coef    std err          t      P>|t|      [0.025      0.975]\n",
      "-----------------------------------------------------------------------------------------------\n",
      "Intercept                    2379.0206   3524.609      0.675      0.503   -4696.927    9454.968\n",
      "is_match                      852.0803    748.123      1.139      0.260    -649.839    2354.000\n",
      "is_junior                   -3391.8563   3997.951     -0.848      0.400   -1.14e+04    4634.365\n",
      "TotalWorkingYears            -484.7864   2652.474     -0.183      0.856   -5809.850    4840.277\n",
      "is_junior:TotalWorkingYears  1004.2809   2643.643      0.380      0.706   -4303.054    6311.616\n",
      "is_senior                   -4228.0684   4137.454     -1.022      0.312   -1.25e+04    4078.217\n",
      "is_senior:TotalWorkingYears  1091.0407   2651.823      0.411      0.682   -4232.716    6414.797\n",
      "edu_2                        -312.3288   1545.582     -0.202      0.841   -3415.214    2790.557\n",
      "edu_3                         817.2317   1460.856      0.559      0.578   -2115.560    3750.023\n",
      "edu_4                        1681.4340   1572.938      1.069      0.290   -1476.371    4839.239\n",
      "edu_5                         345.5903   2241.422      0.154      0.878   -4154.253    4845.434\n",
      "==============================================================================\n",
      "Omnibus:                        2.847   Durbin-Watson:                   1.604\n",
      "Prob(Omnibus):                  0.241   Jarque-Bera (JB):                2.148\n",
      "Skew:                           0.442   Prob(JB):                        0.342\n",
      "Kurtosis:                       3.221   Cond. No.                         445.\n",
      "==============================================================================\n",
      "\n",
      "Notes:\n",
      "[1] Standard Errors assume that the covariance matrix of the errors is correctly specified.\n"
     ]
    }
   ],
   "source": [
    "# Human Resources department\n",
    "employee = d1_employee\n",
    "employee = employee.loc[(employee['Department'] == 'Human Resources')]\n",
    "\n",
    "explan_vars = ['is_match', 'is_junior * TotalWorkingYears',\n",
    "               'is_senior * TotalWorkingYears']\n",
    "formula = 'MonthlyIncome ~ '\n",
    "for i in employee.columns:\n",
    "    if 'edu_' in i:\n",
    "        explan_vars.append(i)\n",
    "for each in explan_vars[:-1]:\n",
    "    formula += (each + ' + ')\n",
    "formula += explan_vars[-1]\n",
    "# print(formula)\n",
    "X = sm.add_constant(X)\n",
    "result = smf.ols(\n",
    "    formula=formula, data=employee).fit()\n",
    "\n",
    "print(result.summary())\n"
   ]
  },
  {
   "cell_type": "markdown",
   "id": "be8e919a",
   "metadata": {},
   "source": [
    "Based on Models 8, 9, and 10, we can validate our findings on the correlation relationships discussed in the previous models."
   ]
  },
  {
   "cell_type": "markdown",
   "id": "6f6e7d7c",
   "metadata": {},
   "source": [
    "### Key Takeaways"
   ]
  },
  {
   "cell_type": "markdown",
   "id": "d462a8b5",
   "metadata": {},
   "source": [
    "#### Summary of the overall impact of education level and relevance of education field\n",
    "<ul>\n",
    "  <li>A higher education level does not necessarily link to a higher salary, as we merely observed one positive correlation with senior level employees and this is better explained by how education becomes a key differentiator in deciding salary for this level. Furthermore, junior-level employees with a doctorate degree have a higher average salary. Ultimately, this could be due to the small sample size of employees with a PhD, which amplifies the effect of an advanced academic degree.</li>\n",
    "  <li>Having a relevant education background makes sense when it comes to explaining the salary of R&D employees. The technical and specialized roles within this department generally require expertise within their field. </li>\n",
    "  <li>On the contrary, HR and Sales place more value on work experience, as total working years are more significant predictors of salary. This could be due to the less technical nature of these roles that benefit more from having more years of practical experience.</li>\n",
    "</ul>"
   ]
  },
  {
   "cell_type": "markdown",
   "id": "8b6509b9",
   "metadata": {},
   "source": [
    "#### Does it confirm or challenge our previous belief?\n",
    "<ul>\n",
    "    <li>Challenge : Education is not a significant predictor of salary.</li>\n",
    "</ul>"
   ]
  },
  {
   "cell_type": "markdown",
   "id": "d0a0e7d3",
   "metadata": {},
   "source": [
    "#### Business Implications of the findings\n",
    "<ul>\n",
    "  <li>The impact of education on salary should consider how work experience has a more significant impact on salary along with how different functions of work value education differently.</li>\n",
    "  <li>When making hiring or job promotion decisions, companies should weigh education differently in the evaluation of candidates or employees based on the specific needs of their roles.</li>\n",
    "</ul>"
   ]
  },
  {
   "cell_type": "markdown",
   "id": "82109803",
   "metadata": {},
   "source": [
    "#### Potential Improvements\n",
    "<ul>\n",
    "  <li>Aside from the academic attainments of the employees, on-job training has been a crucial factor linked to workplace success measured in salary. This dataset fails to provide insight of the total training time of employees, having only the previous year's training information.</li>\n",
    "  <li>A candid performance rating system could be a good control variable that increases the total statistical significance of the model and accounts for the uninterpreted variation. However, the performance rating in this dataset lacks depth with only either \"Good\" or \"Outstanding\".</li>\n",
    "  <li>Some employees could have entered the company with matching previous job experience that this dataset does not account for. This could be a factor that leads to a higher salary even with a mismatched education background. It is entirely possible that one has gained skills necessary for their new role from their work experience instead of school.</li>\n",
    "  <li>The sample size is also fairly limited.</li>\n",
    "</ul>"
   ]
  }
 ],
 "metadata": {
  "kernelspec": {
   "display_name": "Python 3",
   "language": "python",
   "name": "python3"
  },
  "language_info": {
   "codemirror_mode": {
    "name": "ipython",
    "version": 3
   },
   "file_extension": ".py",
   "mimetype": "text/x-python",
   "name": "python",
   "nbconvert_exporter": "python",
   "pygments_lexer": "ipython3",
   "version": "3.8.8"
  }
 },
 "nbformat": 4,
 "nbformat_minor": 5
}
